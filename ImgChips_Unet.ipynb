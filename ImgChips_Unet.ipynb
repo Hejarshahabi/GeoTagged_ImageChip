{
 "cells": [
  {
   "cell_type": "code",
   "execution_count": 8,
   "metadata": {},
   "outputs": [
    {
     "name": "stdout",
     "output_type": "stream",
     "text": [
      "Shape of training data  is:  (4, 2106, 2816)\n",
      "Shape of label is:  (2106, 2816)\n",
      "The number of image chips is:  5808\n",
      "**** number of sample pixels for each class ****\n"
     ]
    },
    {
     "data": {
      "image/png": "[encoded data removed]",
      "text/plain": [
       "<Figure size 576x432 with 1 Axes>"
      ]
     },
     "metadata": {
      "needs_background": "light"
     },
     "output_type": "display_data"
    }
   ],
   "source": [
    "import numpy as np\n",
    "import pandas as pd\n",
    "import os \n",
    "import matplotlib.pyplot as plt\n",
    "import rasterio as rs \n",
    "os.chdir(\"D:/...../UNET\")\n",
    "\n",
    "def trainchips(img, label, stride, winsize):\n",
    "    image= rs.open(img)\n",
    "    inv= rs.open(label)\n",
    "    imgarr=image.read()\n",
    "    invarr= inv.read(1)\n",
    "    print(\"Shape of training data  is: \",imgarr.shape) \n",
    "    print(\"Shape of label is: \",invarr.shape)\n",
    "    index=0\n",
    "    os.mkdir(\"D:/....../UNET/S2\")\n",
    "    os.chdir(\"D:/....../UNET/S2\")\n",
    "    for i in np.arange(0,imgarr.shape[1],stride):\n",
    "        for j in np.arange(0,imgarr.shape[2],stride):\n",
    "            img=imgarr[:,i:i+winsize,j:j+winsize]\n",
    "            lbl= invarr[i:i+winsize,j:j+winsize]\n",
    "            x,y = (j*image.transform[0]+image.transform[2]),(image.transform[5]+i*image.transform[4])\n",
    "            transform= [image.transform[0],0,x,0,image.transform[4],y]\n",
    "            index+=1\n",
    "            with rs.open(str(index)+\"_img.tif\",\"w\",driver='GTiff', count=imgarr.shape[0], dtype=imgarr.dtype,\n",
    "                         width=winsize, height=winsize, transform=transform, crs=image.crs) as raschip:\n",
    "                         raschip.write(img)\n",
    "            with rs.open(str(index)+\"_lbl.tif\",\"w\",driver='GTiff', count=1, dtype=invarr.dtype,\n",
    "                         width=winsize, height=winsize, transform=transform, crs=image.crs) as lblchip:\n",
    "                         lblchip.write(lbl,1)\n",
    "                \n",
    "    print(\"The number of image chips is: \", index)\n",
    "    i,j = np.unique(invarr[invarr>0], return_counts= True)\n",
    "    plt.figure(figsize=(8,6))\n",
    "    print(\"**** number of sample pixels for each class ****\")\n",
    "    plt.bar(i, j,alpha=0.7, tick_label=i)\n",
    "    \n",
    "\n",
    "imgchips= trainchips(\"image.tif\", \"label.tif\", 32, 64)"
   ]
  },
  {
   "cell_type": "code",
   "execution_count": 4,
   "metadata": {},
   "outputs": [],
   "source": []
  },
  {
   "cell_type": "code",
   "execution_count": null,
   "metadata": {},
   "outputs": [],
   "source": []
  }
 ],
 "metadata": {
  "kernelspec": {
   "display_name": "Python 3",
   "language": "python",
   "name": "python3"
  },
  "language_info": {
   "codemirror_mode": {
    "name": "ipython",
    "version": 3
   },
   "file_extension": ".py",
   "mimetype": "text/x-python",
   "name": "python",
   "nbconvert_exporter": "python",
   "pygments_lexer": "ipython3",
   "version": "3.7.9"
  },
  "nbTranslate": {
   "displayLangs": [
    "*"
   ],
   "hotkey": "alt-t",
   "langInMainMenu": true,
   "sourceLang": "en",
   "targetLang": "fr",
   "useGoogleTranslate": true
  },
  "toc": {
   "base_numbering": 1,
   "nav_menu": {},
   "number_sections": true,
   "sideBar": true,
   "skip_h1_title": false,
   "title_cell": "Table of Contents",
   "title_sidebar": "Contents",
   "toc_cell": false,
   "toc_position": {},
   "toc_section_display": true,
   "toc_window_display": false
  },
  "varInspector": {
   "cols": {
    "lenName": 16,
    "lenType": 16,
    "lenVar": 40
   },
   "kernels_config": {
    "python": {
     "delete_cmd_postfix": "",
     "delete_cmd_prefix": "del ",
     "library": "var_list.py",
     "varRefreshCmd": "print(var_dic_list())"
    },
    "r": {
     "delete_cmd_postfix": ") ",
     "delete_cmd_prefix": "rm(",
     "library": "var_list.r",
     "varRefreshCmd": "cat(var_dic_list()) "
    }
   },
   "types_to_exclude": [
    "module",
    "function",
    "builtin_function_or_method",
    "instance",
    "_Feature"
   ],
   "window_display": false
  }
 },
 "nbformat": 4,
 "nbformat_minor": 4
}
